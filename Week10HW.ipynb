{
 "cells": [
  {
   "cell_type": "markdown",
   "metadata": {},
   "source": [
    "# Visualizing Stock Data\n",
    "\n",
    "In this activity, you'll convert a date column to `datetime` and perform slicing functions on various dates.\n",
    "\n",
    "Instructions\n",
    "\n",
    "In this activity, you’ll use the Tesla stock data that you used in the previous activity. The first part of the starter Jupyter notebook recalls the data preparation and time zone setting. Review the initial section, and then continue with the following steps:\n",
    "\n",
    "1. Set the “time” column as the DataFrame index.\n",
    "\n",
    "2. Plot the closing prices of the TSLA stock.\n",
    "\n",
    "3. Using the `loc` function, zoom in to 2020 to inspect the TSLA closing prices.\n",
    "\n",
    "4. Using the `loc` function, plot the closing prices from August and September 2020.\n",
    "\n",
    "5. Using the `loc` function, plot the closing prices from August 22 and September 5, 2020.\n",
    "\n",
    "\n",
    "\n",
    "References\n",
    "\n",
    "[Pandas.to_datetime](https://pandas.pydata.org/pandas-docs/stable/reference/api/pandas.to_datetime.html)\n",
    "\n",
    "[Pandas DataTimeIndex](https://pandas.pydata.org/docs/reference/api/pandas.DatetimeIndex.html)\n",
    "\n",
    "[Pandas loc function](https://pandas.pydata.org/pandas-docs/stable/reference/api/pandas.DataFrame.loc.html)\n"
   ]
  },
  {
   "cell_type": "code",
   "execution_count": 1,
   "metadata": {},
   "outputs": [],
   "source": [
    "# Import the required libraries and dependencies\n",
    "import pandas as pd\n",
    "from pathlib import Path"
   ]
  },
  {
   "cell_type": "markdown",
   "metadata": {},
   "source": [
    "## Data Preparation\n",
    "\n",
    "This section summarizes the steps completed in the \"Inspecting Time Zones in Stock Data\" activity. "
   ]
  },
  {
   "cell_type": "code",
   "execution_count": 14,
   "metadata": {},
   "outputs": [],
   "source": [
    "# Read the data from the tsla_historical.csv file into a Pandas DataFrame\n",
    "df_tsla = pd.read_csv(\n",
    "    Path(\"../Resources/tsla_historical.csv\")\n",
    ")"
   ]
  },
  {
   "cell_type": "code",
   "execution_count": 15,
   "metadata": {},
   "outputs": [
    {
     "data": {
      "text/html": [
       "<div>\n",
       "<style scoped>\n",
       "    .dataframe tbody tr th:only-of-type {\n",
       "        vertical-align: middle;\n",
       "    }\n",
       "\n",
       "    .dataframe tbody tr th {\n",
       "        vertical-align: top;\n",
       "    }\n",
       "\n",
       "    .dataframe thead th {\n",
       "        text-align: right;\n",
       "    }\n",
       "</style>\n",
       "<table border=\"1\" class=\"dataframe\">\n",
       "  <thead>\n",
       "    <tr style=\"text-align: right;\">\n",
       "      <th></th>\n",
       "      <th>time</th>\n",
       "      <th>close</th>\n",
       "    </tr>\n",
       "  </thead>\n",
       "  <tbody>\n",
       "    <tr>\n",
       "      <th>0</th>\n",
       "      <td>2018-01-02 09:30:00-05:00</td>\n",
       "      <td>315.870</td>\n",
       "    </tr>\n",
       "    <tr>\n",
       "      <th>1</th>\n",
       "      <td>2018-01-02 09:45:00-05:00</td>\n",
       "      <td>317.500</td>\n",
       "    </tr>\n",
       "    <tr>\n",
       "      <th>2</th>\n",
       "      <td>2018-01-02 10:00:00-05:00</td>\n",
       "      <td>318.035</td>\n",
       "    </tr>\n",
       "    <tr>\n",
       "      <th>3</th>\n",
       "      <td>2018-01-02 10:15:00-05:00</td>\n",
       "      <td>317.470</td>\n",
       "    </tr>\n",
       "    <tr>\n",
       "      <th>4</th>\n",
       "      <td>2018-01-02 10:30:00-05:00</td>\n",
       "      <td>316.875</td>\n",
       "    </tr>\n",
       "  </tbody>\n",
       "</table>\n",
       "</div>"
      ],
      "text/plain": [
       "                        time    close\n",
       "0  2018-01-02 09:30:00-05:00  315.870\n",
       "1  2018-01-02 09:45:00-05:00  317.500\n",
       "2  2018-01-02 10:00:00-05:00  318.035\n",
       "3  2018-01-02 10:15:00-05:00  317.470\n",
       "4  2018-01-02 10:30:00-05:00  316.875"
      ]
     },
     "execution_count": 15,
     "metadata": {},
     "output_type": "execute_result"
    }
   ],
   "source": [
    "# Display the first five rows of the DataFrame\n",
    "df_tsla.head()"
   ]
  },
  {
   "cell_type": "code",
   "execution_count": 16,
   "metadata": {},
   "outputs": [
    {
     "name": "stdout",
     "output_type": "stream",
     "text": [
      "<class 'pandas.core.frame.DataFrame'>\n",
      "RangeIndex: 21279 entries, 0 to 21278\n",
      "Data columns (total 2 columns):\n",
      " #   Column  Non-Null Count  Dtype  \n",
      "---  ------  --------------  -----  \n",
      " 0   time    21279 non-null  object \n",
      " 1   close   21279 non-null  float64\n",
      "dtypes: float64(1), object(1)\n",
      "memory usage: 332.6+ KB\n"
     ]
    }
   ],
   "source": [
    "# Inspect the DataFrame's data types using the info function\n",
    "df_tsla.info()"
   ]
  },
  {
   "cell_type": "code",
   "execution_count": 17,
   "metadata": {},
   "outputs": [],
   "source": [
    "# Transform the time column to a datetime data type\n",
    "df_tsla[\"time\"] = pd.to_datetime(\n",
    "    df_tsla[\"time\"],\n",
    "    infer_datetime_format = True,\n",
    "    utc = True    \n",
    ")"
   ]
  },
  {
   "cell_type": "code",
   "execution_count": 18,
   "metadata": {},
   "outputs": [
    {
     "name": "stdout",
     "output_type": "stream",
     "text": [
      "<class 'pandas.core.frame.DataFrame'>\n",
      "RangeIndex: 21279 entries, 0 to 21278\n",
      "Data columns (total 2 columns):\n",
      " #   Column  Non-Null Count  Dtype              \n",
      "---  ------  --------------  -----              \n",
      " 0   time    21279 non-null  datetime64[ns, UTC]\n",
      " 1   close   21279 non-null  float64            \n",
      "dtypes: datetime64[ns, UTC](1), float64(1)\n",
      "memory usage: 332.6 KB\n"
     ]
    }
   ],
   "source": [
    "# Use the info function to confirm the change in data type \n",
    "# for the time column\n",
    "df_tsla.info()"
   ]
  },
  {
   "cell_type": "markdown",
   "metadata": {},
   "source": [
    "## Step 1: Set the “time” column as the DataFrame index."
   ]
  },
  {
   "cell_type": "code",
   "execution_count": 19,
   "metadata": {},
   "outputs": [
    {
     "data": {
      "text/html": [
       "<div>\n",
       "<style scoped>\n",
       "    .dataframe tbody tr th:only-of-type {\n",
       "        vertical-align: middle;\n",
       "    }\n",
       "\n",
       "    .dataframe tbody tr th {\n",
       "        vertical-align: top;\n",
       "    }\n",
       "\n",
       "    .dataframe thead th {\n",
       "        text-align: right;\n",
       "    }\n",
       "</style>\n",
       "<table border=\"1\" class=\"dataframe\">\n",
       "  <thead>\n",
       "    <tr style=\"text-align: right;\">\n",
       "      <th></th>\n",
       "      <th>close</th>\n",
       "    </tr>\n",
       "    <tr>\n",
       "      <th>time</th>\n",
       "      <th></th>\n",
       "    </tr>\n",
       "  </thead>\n",
       "  <tbody>\n",
       "    <tr>\n",
       "      <th>2018-01-02 14:30:00+00:00</th>\n",
       "      <td>315.870</td>\n",
       "    </tr>\n",
       "    <tr>\n",
       "      <th>2018-01-02 14:45:00+00:00</th>\n",
       "      <td>317.500</td>\n",
       "    </tr>\n",
       "    <tr>\n",
       "      <th>2018-01-02 15:00:00+00:00</th>\n",
       "      <td>318.035</td>\n",
       "    </tr>\n",
       "    <tr>\n",
       "      <th>2018-01-02 15:15:00+00:00</th>\n",
       "      <td>317.470</td>\n",
       "    </tr>\n",
       "    <tr>\n",
       "      <th>2018-01-02 15:30:00+00:00</th>\n",
       "      <td>316.875</td>\n",
       "    </tr>\n",
       "    <tr>\n",
       "      <th>...</th>\n",
       "      <td>...</td>\n",
       "    </tr>\n",
       "    <tr>\n",
       "      <th>2020-09-29 19:15:00+00:00</th>\n",
       "      <td>418.980</td>\n",
       "    </tr>\n",
       "    <tr>\n",
       "      <th>2020-09-29 19:30:00+00:00</th>\n",
       "      <td>418.950</td>\n",
       "    </tr>\n",
       "    <tr>\n",
       "      <th>2020-09-29 19:45:00+00:00</th>\n",
       "      <td>418.990</td>\n",
       "    </tr>\n",
       "    <tr>\n",
       "      <th>2020-09-29 20:00:00+00:00</th>\n",
       "      <td>417.820</td>\n",
       "    </tr>\n",
       "    <tr>\n",
       "      <th>2020-09-29 21:45:00+00:00</th>\n",
       "      <td>418.490</td>\n",
       "    </tr>\n",
       "  </tbody>\n",
       "</table>\n",
       "<p>21279 rows × 1 columns</p>\n",
       "</div>"
      ],
      "text/plain": [
       "                             close\n",
       "time                              \n",
       "2018-01-02 14:30:00+00:00  315.870\n",
       "2018-01-02 14:45:00+00:00  317.500\n",
       "2018-01-02 15:00:00+00:00  318.035\n",
       "2018-01-02 15:15:00+00:00  317.470\n",
       "2018-01-02 15:30:00+00:00  316.875\n",
       "...                            ...\n",
       "2020-09-29 19:15:00+00:00  418.980\n",
       "2020-09-29 19:30:00+00:00  418.950\n",
       "2020-09-29 19:45:00+00:00  418.990\n",
       "2020-09-29 20:00:00+00:00  417.820\n",
       "2020-09-29 21:45:00+00:00  418.490\n",
       "\n",
       "[21279 rows x 1 columns]"
      ]
     },
     "execution_count": 19,
     "metadata": {},
     "output_type": "execute_result"
    }
   ],
   "source": [
    "# Set the time column as DataFrame index\n",
    "df_tsla = df_tsla.set_index('time')\n",
    "\n",
    "# Display the first five rows of the DataFrame\n",
    "# YOUR CODE HERE\n",
    "df_tsla"
   ]
  },
  {
   "cell_type": "markdown",
   "metadata": {},
   "source": [
    "## Step 2: Plot the closing prices of the TSLA stock."
   ]
  },
  {
   "cell_type": "code",
   "execution_count": 20,
   "metadata": {},
   "outputs": [
    {
     "data": {
      "text/plain": [
       "<Axes: xlabel='time'>"
      ]
     },
     "execution_count": 20,
     "metadata": {},
     "output_type": "execute_result"
    },
    {
     "data": {
      "image/png": "[encoded data removed]",
      "text/plain": [
       "<Figure size 640x480 with 1 Axes>"
      ]
     },
     "metadata": {},
     "output_type": "display_data"
    }
   ],
   "source": [
    "# Plot the closing price of TSLA\n",
    "# YOUR CODE HERE\n",
    "df_tsla.plot()"
   ]
  },
  {
   "cell_type": "markdown",
   "metadata": {},
   "source": [
    "## Step 3: Using the `loc` function, zoom in to 2020 to inspect the TSLA closing prices."
   ]
  },
  {
   "cell_type": "code",
   "execution_count": 22,
   "metadata": {},
   "outputs": [
    {
     "ename": "SyntaxError",
     "evalue": "invalid syntax (2658310196.py, line 3)",
     "output_type": "error",
     "traceback": [
      "\u001b[0;36m  Cell \u001b[0;32mIn[22], line 3\u001b[0;36m\u001b[0m\n\u001b[0;31m    df_tsla.loc[df_tsla['time']==('2020-01-01':'2020-12-31')]\u001b[0m\n\u001b[0m                                              ^\u001b[0m\n\u001b[0;31mSyntaxError\u001b[0m\u001b[0;31m:\u001b[0m invalid syntax\n"
     ]
    }
   ],
   "source": [
    "# Select and plot the TSLA closing prices from 2020\n",
    "# YOUR CODE HERE\n",
    "df_tsla.loc[df_tsla['time']==[']"
   ]
  },
  {
   "cell_type": "code",
   "execution_count": 11,
   "metadata": {},
   "outputs": [
    {
     "data": {
      "text/plain": [
       "<AxesSubplot:xlabel='time'>"
      ]
     },
     "execution_count": 11,
     "metadata": {},
     "output_type": "execute_result"
    },
    {
     "data": {
      "image/png": "[encoded data removed]",
      "text/plain": [
       "<Figure size 432x288 with 1 Axes>"
      ]
     },
     "metadata": {
      "needs_background": "light"
     },
     "output_type": "display_data"
    }
   ],
   "source": [
    "# Select and plot the TSLA closing prices from 2020 using DatetimeIndex attributes\n",
    "# YOUR CODE HERE\n"
   ]
  },
  {
   "cell_type": "markdown",
   "metadata": {},
   "source": [
    "## Step 4: Using the `loc` function, plot the closing prices from August and September 2020."
   ]
  },
  {
   "cell_type": "code",
   "execution_count": 12,
   "metadata": {},
   "outputs": [
    {
     "data": {
      "text/plain": [
       "<AxesSubplot:xlabel='time'>"
      ]
     },
     "execution_count": 12,
     "metadata": {},
     "output_type": "execute_result"
    },
    {
     "data": {
      "image/png": "[encoded data removed]",
      "text/plain": [
       "<Figure size 432x288 with 1 Axes>"
      ]
     },
     "metadata": {
      "needs_background": "light"
     },
     "output_type": "display_data"
    }
   ],
   "source": [
    "# Select and plot the TSLA closing prices from August and September 2020\n",
    "# YOUR CODE HERE\n"
   ]
  },
  {
   "cell_type": "markdown",
   "metadata": {},
   "source": [
    "## Step 5: Using the `loc` function, plot the closing prices from August 22 and September 5, 2020."
   ]
  },
  {
   "cell_type": "code",
   "execution_count": 13,
   "metadata": {},
   "outputs": [
    {
     "data": {
      "text/plain": [
       "<AxesSubplot:xlabel='time'>"
      ]
     },
     "execution_count": 13,
     "metadata": {},
     "output_type": "execute_result"
    },
    {
     "data": {
      "image/png": "[encoded data removed]",
      "text/plain": [
       "<Figure size 432x288 with 1 Axes>"
      ]
     },
     "metadata": {
      "needs_background": "light"
     },
     "output_type": "display_data"
    }
   ],
   "source": [
    "# Select and plot the TSLA closing prices from August 22 to September 5, 2020\n",
    "# YOUR CODE HERE\n"
   ]
  },
  {
   "cell_type": "code",
   "execution_count": null,
   "metadata": {},
   "outputs": [],
   "source": []
  }
 ],
 "metadata": {
  "kernelspec": {
   "display_name": "Python 3 (ipykernel)",
   "language": "python",
   "name": "python3"
  },
  "language_info": {
   "codemirror_mode": {
    "name": "ipython",
    "version": 3
   },
   "file_extension": ".py",
   "mimetype": "text/x-python",
   "name": "python",
   "nbconvert_exporter": "python",
   "pygments_lexer": "ipython3",
   "version": "3.10.9"
  }
 },
 "nbformat": 4,
 "nbformat_minor": 4
}
